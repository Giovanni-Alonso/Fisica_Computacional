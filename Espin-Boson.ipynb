{
 "cells": [
  {
   "cell_type": "markdown",
   "metadata": {},
   "source": [
    "<table style=\"width:100%\" border=\"0\">\n",
    "    <col width=\"20%\">\n",
    "    <col width=\"60%\">\n",
    "    <col width=\"20%\">\n",
    "    <tr></tr>\n",
    "    <tr>\n",
    "        <th style=\"text-align:left\"><img src=\"Imagenes/UNAM_logo.jpg\" width=\"150px\"></th>\n",
    "        <th style=\"text-align:center\"><span style=\"font-size:220%\">Espín - Boson</span></th> \n",
    "        <th style=\"text-align:right\"><img src=\"Imagenes/LogoCiencias.jpg\" width=\"170px\"></th>\n",
    "    </tr>\n",
    "</table>"
   ]
  },
  {
   "cell_type": "markdown",
   "metadata": {},
   "source": [
    "## Hamiltoniano"
   ]
  },
  {
   "cell_type": "code",
   "execution_count": 94,
   "metadata": {},
   "outputs": [
    {
     "data": {
      "text/plain": [
       "1.05457162853e-34"
      ]
     },
     "execution_count": 94,
     "metadata": {},
     "output_type": "execute_result"
    }
   ],
   "source": [
    "Paulix = [0.0 1.0;1 0]\n",
    "Pauliy = [0.0 -im;im 0]\n",
    "Pauliz = [1.0 0;0 -1]\n",
    "Paulip = [0.0 2;0 0]\n",
    "Paulim = [0.0 0;2 0]\n",
    "hbar = 1.05457162853e-34"
   ]
  },
  {
   "cell_type": "code",
   "execution_count": 95,
   "metadata": {
    "collapsed": true
   },
   "outputs": [],
   "source": [
    "function creation(n)\n",
    "    \n",
    "    a = zeros(n)\n",
    "    for i in 1:n\n",
    "        a[i] = sqrt(i)\n",
    "    end\n",
    "    \n",
    "    return diagm(a,-1) #reshape(diagm(a,-1),n,n)\n",
    "    \n",
    "end;"
   ]
  },
  {
   "cell_type": "code",
   "execution_count": 96,
   "metadata": {},
   "outputs": [
    {
     "data": {
      "text/plain": [
       "11×11 Array{Float64,2}:\n",
       " 0.0  1.0  0.0      0.0      0.0  0.0      …  0.0      0.0      0.0  0.0    \n",
       " 0.0  0.0  1.41421  0.0      0.0  0.0         0.0      0.0      0.0  0.0    \n",
       " 0.0  0.0  0.0      1.73205  0.0  0.0         0.0      0.0      0.0  0.0    \n",
       " 0.0  0.0  0.0      0.0      2.0  0.0         0.0      0.0      0.0  0.0    \n",
       " 0.0  0.0  0.0      0.0      0.0  2.23607     0.0      0.0      0.0  0.0    \n",
       " 0.0  0.0  0.0      0.0      0.0  0.0      …  0.0      0.0      0.0  0.0    \n",
       " 0.0  0.0  0.0      0.0      0.0  0.0         2.64575  0.0      0.0  0.0    \n",
       " 0.0  0.0  0.0      0.0      0.0  0.0         0.0      2.82843  0.0  0.0    \n",
       " 0.0  0.0  0.0      0.0      0.0  0.0         0.0      0.0      3.0  0.0    \n",
       " 0.0  0.0  0.0      0.0      0.0  0.0         0.0      0.0      0.0  3.16228\n",
       " 0.0  0.0  0.0      0.0      0.0  0.0      …  0.0      0.0      0.0  0.0    "
      ]
     },
     "execution_count": 96,
     "metadata": {},
     "output_type": "execute_result"
    }
   ],
   "source": [
    "a = creation(10)'"
   ]
  },
  {
   "cell_type": "code",
   "execution_count": 97,
   "metadata": {},
   "outputs": [
    {
     "data": {
      "text/plain": [
       "11×11 Array{Float64,2}:\n",
       " 0.0  0.0  0.0  0.0  0.0  0.0  0.0  0.0  0.0  0.0   0.0\n",
       " 0.0  1.0  0.0  0.0  0.0  0.0  0.0  0.0  0.0  0.0   0.0\n",
       " 0.0  0.0  2.0  0.0  0.0  0.0  0.0  0.0  0.0  0.0   0.0\n",
       " 0.0  0.0  0.0  3.0  0.0  0.0  0.0  0.0  0.0  0.0   0.0\n",
       " 0.0  0.0  0.0  0.0  4.0  0.0  0.0  0.0  0.0  0.0   0.0\n",
       " 0.0  0.0  0.0  0.0  0.0  5.0  0.0  0.0  0.0  0.0   0.0\n",
       " 0.0  0.0  0.0  0.0  0.0  0.0  6.0  0.0  0.0  0.0   0.0\n",
       " 0.0  0.0  0.0  0.0  0.0  0.0  0.0  7.0  0.0  0.0   0.0\n",
       " 0.0  0.0  0.0  0.0  0.0  0.0  0.0  0.0  8.0  0.0   0.0\n",
       " 0.0  0.0  0.0  0.0  0.0  0.0  0.0  0.0  0.0  9.0   0.0\n",
       " 0.0  0.0  0.0  0.0  0.0  0.0  0.0  0.0  0.0  0.0  10.0"
      ]
     },
     "execution_count": 97,
     "metadata": {},
     "output_type": "execute_result"
    }
   ],
   "source": [
    "a'*a"
   ]
  },
  {
   "cell_type": "code",
   "execution_count": 98,
   "metadata": {},
   "outputs": [
    {
     "data": {
      "text/plain": [
       "11×11 Array{Float64,2}:\n",
       " 1.0  0.0  0.0  0.0  0.0  0.0  0.0  0.0  0.0   0.0  0.0\n",
       " 0.0  2.0  0.0  0.0  0.0  0.0  0.0  0.0  0.0   0.0  0.0\n",
       " 0.0  0.0  3.0  0.0  0.0  0.0  0.0  0.0  0.0   0.0  0.0\n",
       " 0.0  0.0  0.0  4.0  0.0  0.0  0.0  0.0  0.0   0.0  0.0\n",
       " 0.0  0.0  0.0  0.0  5.0  0.0  0.0  0.0  0.0   0.0  0.0\n",
       " 0.0  0.0  0.0  0.0  0.0  6.0  0.0  0.0  0.0   0.0  0.0\n",
       " 0.0  0.0  0.0  0.0  0.0  0.0  7.0  0.0  0.0   0.0  0.0\n",
       " 0.0  0.0  0.0  0.0  0.0  0.0  0.0  8.0  0.0   0.0  0.0\n",
       " 0.0  0.0  0.0  0.0  0.0  0.0  0.0  0.0  9.0   0.0  0.0\n",
       " 0.0  0.0  0.0  0.0  0.0  0.0  0.0  0.0  0.0  10.0  0.0\n",
       " 0.0  0.0  0.0  0.0  0.0  0.0  0.0  0.0  0.0   0.0  0.0"
      ]
     },
     "execution_count": 98,
     "metadata": {},
     "output_type": "execute_result"
    }
   ],
   "source": [
    "a*a'  #En este producto tiene problemas"
   ]
  },
  {
   "cell_type": "code",
   "execution_count": 99,
   "metadata": {
    "collapsed": true
   },
   "outputs": [],
   "source": [
    "function ket(n,m)    \n",
    "    \n",
    "    k = zeros(n+1)\n",
    "    k[m+1] = 1\n",
    "    \n",
    "    return k\n",
    "    \n",
    "end;"
   ]
  },
  {
   "cell_type": "code",
   "execution_count": 100,
   "metadata": {
    "collapsed": true
   },
   "outputs": [],
   "source": [
    "function Hh(n,w0)\n",
    "    \n",
    "    a = creation(n)'\n",
    "    \n",
    "    hh = kron(eye(2),hbar*w0*(a*a'+0.5*eye(n+1)))\n",
    "    \n",
    "    return hh\n",
    "    \n",
    "end;\n",
    "\n",
    "function Hr(n,w0)\n",
    "    \n",
    "    a = creation(n)'\n",
    "    \n",
    "    hr = kron(Paulip,a)+kron(Paulim,a')\n",
    "    \n",
    "    return hr\n",
    "    \n",
    "end;\n",
    "\n",
    "function Ha(n,w0)\n",
    "    \n",
    "    a = creation(n)'\n",
    "    \n",
    "    ha = kron(Paulip,a')+kron(Paulim,a)\n",
    "    \n",
    "    return ha\n",
    "    \n",
    "end;\n",
    "\n",
    "function H(n,w,w0)\n",
    "    \n",
    "    g = 2\n",
    "    \n",
    "    h = (w/2)*kron(Pauliz,eye(n+1))+Hh(n,w0)+g*Hr(n,w0)+g*Ha(n,w0)\n",
    "    \n",
    "    return h\n",
    "    \n",
    "end;"
   ]
  },
  {
   "cell_type": "code",
   "execution_count": 101,
   "metadata": {},
   "outputs": [
    {
     "data": {
      "text/plain": [
       "22×22 Array{Float64,2}:\n",
       " 1.0  0.0      0.0      0.0     …   0.0      0.0      0.0      0.0   \n",
       " 0.0  1.0      0.0      0.0         0.0      0.0      0.0      0.0   \n",
       " 0.0  0.0      1.0      0.0         0.0      0.0      0.0      0.0   \n",
       " 0.0  0.0      0.0      1.0         0.0      0.0      0.0      0.0   \n",
       " 0.0  0.0      0.0      0.0         0.0      0.0      0.0      0.0   \n",
       " 0.0  0.0      0.0      0.0     …   0.0      0.0      0.0      0.0   \n",
       " 0.0  0.0      0.0      0.0        10.583    0.0      0.0      0.0   \n",
       " 0.0  0.0      0.0      0.0         0.0     11.3137   0.0      0.0   \n",
       " 0.0  0.0      0.0      0.0        11.3137   0.0     12.0      0.0   \n",
       " 0.0  0.0      0.0      0.0         0.0     12.0      0.0     12.6491\n",
       " 0.0  0.0      0.0      0.0     …   0.0      0.0     12.6491   0.0   \n",
       " 0.0  4.0      0.0      0.0         0.0      0.0      0.0      0.0   \n",
       " 4.0  0.0      5.65685  0.0         0.0      0.0      0.0      0.0   \n",
       " 0.0  5.65685  0.0      6.9282      0.0      0.0      0.0      0.0   \n",
       " 0.0  0.0      6.9282   0.0         0.0      0.0      0.0      0.0   \n",
       " 0.0  0.0      0.0      8.0     …   0.0      0.0      0.0      0.0   \n",
       " 0.0  0.0      0.0      0.0         0.0      0.0      0.0      0.0   \n",
       " 0.0  0.0      0.0      0.0         0.0      0.0      0.0      0.0   \n",
       " 0.0  0.0      0.0      0.0        -1.0      0.0      0.0      0.0   \n",
       " 0.0  0.0      0.0      0.0         0.0     -1.0      0.0      0.0   \n",
       " 0.0  0.0      0.0      0.0     …   0.0      0.0     -1.0      0.0   \n",
       " 0.0  0.0      0.0      0.0         0.0      0.0      0.0     -1.0   "
      ]
     },
     "execution_count": 101,
     "metadata": {},
     "output_type": "execute_result"
    }
   ],
   "source": [
    "H(10,2,2)"
   ]
  },
  {
   "cell_type": "code",
   "execution_count": null,
   "metadata": {
    "collapsed": true
   },
   "outputs": [],
   "source": []
  },
  {
   "cell_type": "code",
   "execution_count": null,
   "metadata": {
    "collapsed": true
   },
   "outputs": [],
   "source": []
  },
  {
   "cell_type": "code",
   "execution_count": null,
   "metadata": {
    "collapsed": true
   },
   "outputs": [],
   "source": []
  },
  {
   "cell_type": "code",
   "execution_count": null,
   "metadata": {
    "collapsed": true
   },
   "outputs": [],
   "source": []
  },
  {
   "cell_type": "code",
   "execution_count": null,
   "metadata": {
    "collapsed": true
   },
   "outputs": [],
   "source": []
  },
  {
   "cell_type": "code",
   "execution_count": null,
   "metadata": {
    "collapsed": true
   },
   "outputs": [],
   "source": []
  },
  {
   "cell_type": "code",
   "execution_count": null,
   "metadata": {
    "collapsed": true
   },
   "outputs": [],
   "source": []
  },
  {
   "cell_type": "code",
   "execution_count": null,
   "metadata": {
    "collapsed": true
   },
   "outputs": [],
   "source": []
  }
 ],
 "metadata": {
  "kernelspec": {
   "display_name": "Julia 0.6.0",
   "language": "julia",
   "name": "julia-0.6"
  },
  "language_info": {
   "file_extension": ".jl",
   "mimetype": "application/julia",
   "name": "julia",
   "version": "0.6.0"
  }
 },
 "nbformat": 4,
 "nbformat_minor": 2
}
