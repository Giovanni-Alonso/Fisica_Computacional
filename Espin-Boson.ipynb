{
 "cells": [
  {
   "cell_type": "markdown",
   "metadata": {},
   "source": [
    "<table style=\"width:100%\" border=\"0\">\n",
    "    <col width=\"20%\">\n",
    "    <col width=\"60%\">\n",
    "    <col width=\"20%\">\n",
    "    <tr></tr>\n",
    "    <tr>\n",
    "        <th style=\"text-align:left\"><img src=\"Images/UNAM_logo.jpg\" width=\"150px\"></th>\n",
    "        <th style=\"text-align:center\"><span style=\"font-size:220%\">Espín - Boson</span></th> \n",
    "        <th style=\"text-align:right\"><img src=\"Images/LogoCiencias.jpg\" width=\"170px\"></th>\n",
    "    </tr>\n",
    "</table>"
   ]
  },
  {
   "cell_type": "markdown",
   "metadata": {},
   "source": [
    "## Hamiltoniano"
   ]
  },
  {
   "cell_type": "markdown",
   "metadata": {},
   "source": [
    "$$H=\\frac{\\Delta}{2}\\sigma_{z}+\\hbar\\omega_{0}\\left(a^{\\dagger}a+\\frac{1}{2}\\right)+g(\\sigma_{+}a+\\sigma_{-}a^{\\dagger})+g(\\sigma_{+}a^{\\dagger}+\\sigma_{-}a)$$\n",
    "\n",
    "$$H=\\frac{\\Delta}{2}\\sigma_{z}\\otimes\\mathbf{I}_{N}+\\mathbf{I}_{2}\\otimes\\hbar\\omega_{0}\\left(a^{\\dagger}a+\\frac{1}{2}\\mathbf{I}_{N}\\right)+g(\\sigma_{+}\\otimes a+\\sigma_{-}\\otimes a^{\\dagger})+g(\\sigma_{+}\\otimes a^{\\dagger}+\\sigma_{-}\\otimes a)$$"
   ]
  },
  {
   "cell_type": "code",
   "execution_count": 4,
   "metadata": {},
   "outputs": [
    {
     "data": {
      "text/plain": [
       "1.05457162853e-34"
      ]
     },
     "execution_count": 4,
     "metadata": {},
     "output_type": "execute_result"
    }
   ],
   "source": [
    "Paulix = [0.0 1.0;1 0]\n",
    "Pauliy = [0.0 -im;im 0]\n",
    "Pauliz = [1.0 0;0 -1]\n",
    "Paulip = [0.0 2;0 0]\n",
    "Paulim = [0.0 0;2 0]\n",
    "hbar = 1.05457162853e-34"
   ]
  },
  {
   "cell_type": "code",
   "execution_count": 5,
   "metadata": {
    "collapsed": true
   },
   "outputs": [],
   "source": [
    "function creation(n)\n",
    "    a = zeros(n-1)\n",
    "    for i in 1:n-1\n",
    "        a[i] = sqrt(i)\n",
    "    end\n",
    "    return diagm(a,-1)\n",
    "end;"
   ]
  },
  {
   "cell_type": "markdown",
   "metadata": {},
   "source": [
    "Tenemos que $a^{\\dagger}a+\\mathbf{I}_{N}$"
   ]
  },
  {
   "cell_type": "code",
   "execution_count": 31,
   "metadata": {
    "collapsed": true
   },
   "outputs": [],
   "source": [
    "function ket(n,m)    \n",
    "    k = zeros(n)\n",
    "    k[m+1] = 1\n",
    "    return k\n",
    "end;"
   ]
  },
  {
   "cell_type": "code",
   "execution_count": 19,
   "metadata": {
    "collapsed": true
   },
   "outputs": [],
   "source": [
    "function Hh(n,w0)\n",
    "    a = creation(n)'\n",
    "    hh = kron(eye(2),hbar*w0*(a*a'+0.5*eye(n)))\n",
    "    return hh\n",
    "end;\n",
    "\n",
    "function Hr(n,w0)\n",
    "    a = creation(n)'\n",
    "    hr = kron(Paulip,a)+kron(Paulim,a')\n",
    "    return hr\n",
    "end;\n",
    "\n",
    "function Ha(n,w0)\n",
    "    a = creation(n)'\n",
    "    ha = kron(Paulip,a')+kron(Paulim,a)\n",
    "    return ha\n",
    "end;\n",
    "\n",
    "function H(n,delta,w0,g)\n",
    "    h = (delta/2)*kron(Pauliz,eye(n))+Hh(n,w0)+g*Hr(n,w0)+g*Ha(n,w0)\n",
    "    return h\n",
    "end;"
   ]
  },
  {
   "cell_type": "code",
   "execution_count": 106,
   "metadata": {},
   "outputs": [
    {
     "data": {
      "text/plain": [
       "180×180 Array{Float64,2}:\n",
       " 1.0  0.0  0.0  0.0  0.0  0.0  0.0  …   0.0   0.0   0.0   0.0   0.0   0.0\n",
       " 0.0  1.0  0.0  0.0  0.0  0.0  0.0      0.0   0.0   0.0   0.0   0.0   0.0\n",
       " 0.0  0.0  1.0  0.0  0.0  0.0  0.0      0.0   0.0   0.0   0.0   0.0   0.0\n",
       " 0.0  0.0  0.0  1.0  0.0  0.0  0.0      0.0   0.0   0.0   0.0   0.0   0.0\n",
       " 0.0  0.0  0.0  0.0  1.0  0.0  0.0      0.0   0.0   0.0   0.0   0.0   0.0\n",
       " 0.0  0.0  0.0  0.0  0.0  1.0  0.0  …   0.0   0.0   0.0   0.0   0.0   0.0\n",
       " 0.0  0.0  0.0  0.0  0.0  0.0  1.0      0.0   0.0   0.0   0.0   0.0   0.0\n",
       " 0.0  0.0  0.0  0.0  0.0  0.0  0.0      0.0   0.0   0.0   0.0   0.0   0.0\n",
       " 0.0  0.0  0.0  0.0  0.0  0.0  0.0      0.0   0.0   0.0   0.0   0.0   0.0\n",
       " 0.0  0.0  0.0  0.0  0.0  0.0  0.0      0.0   0.0   0.0   0.0   0.0   0.0\n",
       " 0.0  0.0  0.0  0.0  0.0  0.0  0.0  …   0.0   0.0   0.0   0.0   0.0   0.0\n",
       " 0.0  0.0  0.0  0.0  0.0  0.0  0.0      0.0   0.0   0.0   0.0   0.0   0.0\n",
       " 0.0  0.0  0.0  0.0  0.0  0.0  0.0      0.0   0.0   0.0   0.0   0.0   0.0\n",
       " ⋮                        ⋮         ⋱         ⋮                          \n",
       " 0.0  0.0  0.0  0.0  0.0  0.0  0.0      0.0   0.0   0.0   0.0   0.0   0.0\n",
       " 0.0  0.0  0.0  0.0  0.0  0.0  0.0      0.0   0.0   0.0   0.0   0.0   0.0\n",
       " 0.0  0.0  0.0  0.0  0.0  0.0  0.0  …   0.0   0.0   0.0   0.0   0.0   0.0\n",
       " 0.0  0.0  0.0  0.0  0.0  0.0  0.0      0.0   0.0   0.0   0.0   0.0   0.0\n",
       " 0.0  0.0  0.0  0.0  0.0  0.0  0.0      0.0   0.0   0.0   0.0   0.0   0.0\n",
       " 0.0  0.0  0.0  0.0  0.0  0.0  0.0      0.0   0.0   0.0   0.0   0.0   0.0\n",
       " 0.0  0.0  0.0  0.0  0.0  0.0  0.0     -1.0   0.0   0.0   0.0   0.0   0.0\n",
       " 0.0  0.0  0.0  0.0  0.0  0.0  0.0  …   0.0  -1.0   0.0   0.0   0.0   0.0\n",
       " 0.0  0.0  0.0  0.0  0.0  0.0  0.0      0.0   0.0  -1.0   0.0   0.0   0.0\n",
       " 0.0  0.0  0.0  0.0  0.0  0.0  0.0      0.0   0.0   0.0  -1.0   0.0   0.0\n",
       " 0.0  0.0  0.0  0.0  0.0  0.0  0.0      0.0   0.0   0.0   0.0  -1.0   0.0\n",
       " 0.0  0.0  0.0  0.0  0.0  0.0  0.0      0.0   0.0   0.0   0.0   0.0  -1.0"
      ]
     },
     "execution_count": 106,
     "metadata": {},
     "output_type": "execute_result"
    }
   ],
   "source": [
    "Ham = H(90,2,2,2)"
   ]
  },
  {
   "cell_type": "code",
   "execution_count": 86,
   "metadata": {},
   "outputs": [],
   "source": [
    "function coherent(n,alpha)\n",
    "    s = 0\n",
    "    for i in 0:n-1\n",
    "        s += alpha^i*ket(n,i)/sqrt(factorial(float(i)))\n",
    "    end\n",
    "    s *= exp(-abs(alpha)^2*0.5)\n",
    "    return s\n",
    "end;"
   ]
  },
  {
   "cell_type": "code",
   "execution_count": 105,
   "metadata": {},
   "outputs": [
    {
     "data": {
      "text/plain": [
       "1.0"
      ]
     },
     "execution_count": 105,
     "metadata": {},
     "output_type": "execute_result"
    }
   ],
   "source": [
    "dot(coherent(90,pi),coherent(90,pi))"
   ]
  },
  {
   "cell_type": "code",
   "execution_count": null,
   "metadata": {
    "collapsed": true
   },
   "outputs": [],
   "source": []
  },
  {
   "cell_type": "code",
   "execution_count": null,
   "metadata": {
    "collapsed": true
   },
   "outputs": [],
   "source": []
  },
  {
   "cell_type": "code",
   "execution_count": null,
   "metadata": {
    "collapsed": true
   },
   "outputs": [],
   "source": []
  },
  {
   "cell_type": "code",
   "execution_count": null,
   "metadata": {
    "collapsed": true
   },
   "outputs": [],
   "source": []
  },
  {
   "cell_type": "code",
   "execution_count": null,
   "metadata": {
    "collapsed": true
   },
   "outputs": [],
   "source": []
  },
  {
   "cell_type": "code",
   "execution_count": null,
   "metadata": {
    "collapsed": true
   },
   "outputs": [],
   "source": []
  },
  {
   "cell_type": "code",
   "execution_count": null,
   "metadata": {
    "collapsed": true
   },
   "outputs": [],
   "source": []
  },
  {
   "cell_type": "code",
   "execution_count": null,
   "metadata": {
    "collapsed": true
   },
   "outputs": [],
   "source": []
  },
  {
   "cell_type": "markdown",
   "metadata": {
    "collapsed": true
   },
   "source": [
    "Pureza, probabilidad del estado exitado, iniciando con estados coherentes."
   ]
  }
 ],
 "metadata": {
  "kernelspec": {
   "display_name": "Julia 0.6.0",
   "language": "julia",
   "name": "julia-0.6"
  },
  "language_info": {
   "file_extension": ".jl",
   "mimetype": "application/julia",
   "name": "julia",
   "version": "0.6.0"
  }
 },
 "nbformat": 4,
 "nbformat_minor": 2
}
