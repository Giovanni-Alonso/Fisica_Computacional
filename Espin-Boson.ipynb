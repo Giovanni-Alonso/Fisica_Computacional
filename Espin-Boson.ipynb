{
 "cells": [
  {
   "cell_type": "markdown",
   "metadata": {},
   "source": [
    "<table style=\"width:100%\" border=\"0\">\n",
    "    <col width=\"20%\">\n",
    "    <col width=\"60%\">\n",
    "    <col width=\"20%\">\n",
    "    <tr></tr>\n",
    "    <tr>\n",
    "        <th style=\"text-align:left\"><img src=\"Images/UNAM_logo.jpg\" width=\"150px\"></th>\n",
    "        <th style=\"text-align:center\"><span style=\"font-size:220%\">Espín - Boson</span></th> \n",
    "        <th style=\"text-align:right\"><img src=\"Images/LogoCiencias.jpg\" width=\"170px\"></th>\n",
    "    </tr>\n",
    "</table>"
   ]
  },
  {
   "cell_type": "markdown",
   "metadata": {},
   "source": [
    "## Hamiltoniano"
   ]
  },
  {
   "cell_type": "markdown",
   "metadata": {},
   "source": [
    "$$H=\\frac{\\Delta}{2}\\sigma_{z}+\\hbar\\omega_{0}\\left(a^{\\dagger}a+\\frac{1}{2}\\right)+g(\\sigma_{+}a+\\sigma_{-}a^{\\dagger})+g(\\sigma_{+}a^{\\dagger}+\\sigma_{-}a)$$\n",
    "\n",
    "$$H=\\frac{\\Delta}{2}\\sigma_{z}\\otimes\\mathbf{I}_{N}+\\mathbf{I}_{2}\\otimes\\hbar\\omega_{0}\\left(a^{\\dagger}a+\\frac{1}{2}\\mathbf{I}_{N}\\right)+g(\\sigma_{+}\\otimes a+\\sigma_{-}\\otimes a^{\\dagger})+g(\\sigma_{+}\\otimes a^{\\dagger}+\\sigma_{-}\\otimes a)$$"
   ]
  },
  {
   "cell_type": "code",
   "execution_count": 1,
   "metadata": {},
   "outputs": [
    {
     "data": {
      "text/plain": [
       "1.05457162853e-34"
      ]
     },
     "execution_count": 1,
     "metadata": {},
     "output_type": "execute_result"
    }
   ],
   "source": [
    "Paulix = [0.0 1.0;1 0]\n",
    "Pauliy = [0.0 -im;im 0]\n",
    "Pauliz = [1.0 0;0 -1]\n",
    "Paulip = [0.0 2;0 0]\n",
    "Paulim = [0.0 0;2 0]\n",
    "hbar = 1.05457162853e-34"
   ]
  },
  {
   "cell_type": "code",
   "execution_count": 2,
   "metadata": {
    "collapsed": true
   },
   "outputs": [],
   "source": [
    "function creation(n)\n",
    "    a = zeros(n-1)\n",
    "    for i in 1:n-1\n",
    "        a[i] = sqrt(i)\n",
    "    end\n",
    "    return diagm(a,-1)\n",
    "end;"
   ]
  },
  {
   "cell_type": "markdown",
   "metadata": {},
   "source": [
    "Tenemos que $aa^{\\dagger}=a^{\\dagger}a+\\mathbf{I}_{N}$"
   ]
  },
  {
   "cell_type": "code",
   "execution_count": 3,
   "metadata": {
    "collapsed": true
   },
   "outputs": [],
   "source": [
    "function ket(n,m)    \n",
    "    k = zeros(n)\n",
    "    k[m+1] = 1\n",
    "    return k\n",
    "end;"
   ]
  },
  {
   "cell_type": "code",
   "execution_count": 4,
   "metadata": {
    "collapsed": true
   },
   "outputs": [],
   "source": [
    "function Hh(n,w0)\n",
    "    a = creation(n)'\n",
    "    hh = kron(eye(2),hbar*w0*(a*a'+0.5*eye(n)))\n",
    "    return hh\n",
    "end;\n",
    "\n",
    "function Hr(n,w0)\n",
    "    a = creation(n)'\n",
    "    hr = kron(Paulip,a)+kron(Paulim,a')\n",
    "    return hr\n",
    "end;\n",
    "\n",
    "function Ha(n,w0)\n",
    "    a = creation(n)'\n",
    "    ha = kron(Paulip,a')+kron(Paulim,a)\n",
    "    return ha\n",
    "end;\n",
    "\n",
    "function H(n,delta,w0,g)\n",
    "    h = (delta/2)*kron(Pauliz,eye(n))+Hh(n,w0)+g*Hr(n,w0)+g*Ha(n,w0)\n",
    "    return h\n",
    "end;"
   ]
  },
  {
   "cell_type": "code",
   "execution_count": 5,
   "metadata": {},
   "outputs": [
    {
     "data": {
      "text/plain": [
       "200×200 Array{Float64,2}:\n",
       " 1.0  0.0  0.0  0.0  0.0  0.0  0.0  …   0.0   0.0   0.0   0.0   0.0   0.0\n",
       " 0.0  1.0  0.0  0.0  0.0  0.0  0.0      0.0   0.0   0.0   0.0   0.0   0.0\n",
       " 0.0  0.0  1.0  0.0  0.0  0.0  0.0      0.0   0.0   0.0   0.0   0.0   0.0\n",
       " 0.0  0.0  0.0  1.0  0.0  0.0  0.0      0.0   0.0   0.0   0.0   0.0   0.0\n",
       " 0.0  0.0  0.0  0.0  1.0  0.0  0.0      0.0   0.0   0.0   0.0   0.0   0.0\n",
       " 0.0  0.0  0.0  0.0  0.0  1.0  0.0  …   0.0   0.0   0.0   0.0   0.0   0.0\n",
       " 0.0  0.0  0.0  0.0  0.0  0.0  1.0      0.0   0.0   0.0   0.0   0.0   0.0\n",
       " 0.0  0.0  0.0  0.0  0.0  0.0  0.0      0.0   0.0   0.0   0.0   0.0   0.0\n",
       " 0.0  0.0  0.0  0.0  0.0  0.0  0.0      0.0   0.0   0.0   0.0   0.0   0.0\n",
       " 0.0  0.0  0.0  0.0  0.0  0.0  0.0      0.0   0.0   0.0   0.0   0.0   0.0\n",
       " 0.0  0.0  0.0  0.0  0.0  0.0  0.0  …   0.0   0.0   0.0   0.0   0.0   0.0\n",
       " 0.0  0.0  0.0  0.0  0.0  0.0  0.0      0.0   0.0   0.0   0.0   0.0   0.0\n",
       " 0.0  0.0  0.0  0.0  0.0  0.0  0.0      0.0   0.0   0.0   0.0   0.0   0.0\n",
       " ⋮                        ⋮         ⋱         ⋮                          \n",
       " 0.0  0.0  0.0  0.0  0.0  0.0  0.0      0.0   0.0   0.0   0.0   0.0   0.0\n",
       " 0.0  0.0  0.0  0.0  0.0  0.0  0.0      0.0   0.0   0.0   0.0   0.0   0.0\n",
       " 0.0  0.0  0.0  0.0  0.0  0.0  0.0  …   0.0   0.0   0.0   0.0   0.0   0.0\n",
       " 0.0  0.0  0.0  0.0  0.0  0.0  0.0      0.0   0.0   0.0   0.0   0.0   0.0\n",
       " 0.0  0.0  0.0  0.0  0.0  0.0  0.0      0.0   0.0   0.0   0.0   0.0   0.0\n",
       " 0.0  0.0  0.0  0.0  0.0  0.0  0.0      0.0   0.0   0.0   0.0   0.0   0.0\n",
       " 0.0  0.0  0.0  0.0  0.0  0.0  0.0     -1.0   0.0   0.0   0.0   0.0   0.0\n",
       " 0.0  0.0  0.0  0.0  0.0  0.0  0.0  …   0.0  -1.0   0.0   0.0   0.0   0.0\n",
       " 0.0  0.0  0.0  0.0  0.0  0.0  0.0      0.0   0.0  -1.0   0.0   0.0   0.0\n",
       " 0.0  0.0  0.0  0.0  0.0  0.0  0.0      0.0   0.0   0.0  -1.0   0.0   0.0\n",
       " 0.0  0.0  0.0  0.0  0.0  0.0  0.0      0.0   0.0   0.0   0.0  -1.0   0.0\n",
       " 0.0  0.0  0.0  0.0  0.0  0.0  0.0      0.0   0.0   0.0   0.0   0.0  -1.0"
      ]
     },
     "execution_count": 5,
     "metadata": {},
     "output_type": "execute_result"
    }
   ],
   "source": [
    "Htot = H(100,2,2,2)"
   ]
  },
  {
   "cell_type": "markdown",
   "metadata": {},
   "source": [
    "Para tener los estados coherentes $\\left|\\alpha\\rangle\\right.$ se utiliza la ecuación\n",
    "\n",
    "$$\\left|\\alpha\\rangle\\right.=e^{-\\left|\\alpha\\right|^2/2}\\sum_{n=0}^{\\infty}\\frac{\\alpha^{n}}{\\sqrt{n!}}\\left|n\\rangle\\right.$$"
   ]
  },
  {
   "cell_type": "code",
   "execution_count": 6,
   "metadata": {
    "collapsed": true
   },
   "outputs": [],
   "source": [
    "function coherent(n,alpha)\n",
    "    s = 0\n",
    "    for i in 0:n-1\n",
    "        s += alpha^i*ket(n,i)/sqrt(factorial(float(i)))\n",
    "    end\n",
    "    s *= exp(-abs(alpha)^2*0.5)\n",
    "    return s\n",
    "end;"
   ]
  },
  {
   "cell_type": "code",
   "execution_count": 7,
   "metadata": {
    "collapsed": true
   },
   "outputs": [],
   "source": [
    "alpha = coherent(100,pi);"
   ]
  },
  {
   "cell_type": "markdown",
   "metadata": {
    "collapsed": true
   },
   "source": [
    "Para construir el estado inicial total tenemos que el espacio de espín es $\\mathcal{H}_{s}=\\mathrm{gen}\\{\\left|\\uparrow\\rangle\\right.,\\left|\\downarrow\\rangle\\right.\\}$, por lo que si se tiene un estado coherente $\\left|\\alpha\\rangle\\right.$, el estado inicial será\n",
    "\n",
    "$$\\left|\\psi_{0}\\rangle\\right.=\\left|\\uparrow\\rangle\\right.\\otimes\\left|\\alpha\\rangle\\right.$$"
   ]
  },
  {
   "cell_type": "code",
   "execution_count": 8,
   "metadata": {
    "collapsed": true
   },
   "outputs": [],
   "source": [
    "psi0 = kron([1;0],alpha);"
   ]
  },
  {
   "cell_type": "markdown",
   "metadata": {},
   "source": [
    "Entonces, para conocer el estado al tiempo $t$ se utiliza el propagador\n",
    "\n",
    "$$\\left|\\psi(t)\\rangle\\right.=U(t)\\left|\\psi_{0}\\rangle\\right.=e^{-iHt}\\left|\\psi_{0}\\rangle\\right.$$"
   ]
  },
  {
   "cell_type": "code",
   "execution_count": 11,
   "metadata": {
    "collapsed": true
   },
   "outputs": [],
   "source": [
    "psi(t) = expm(-im*t*Htot)*psi0;"
   ]
  },
  {
   "cell_type": "code",
   "execution_count": 10,
   "metadata": {},
   "outputs": [],
   "source": [
    "listt = 0:100;\n",
    "#norma = norm.(psi.(listt))"
   ]
  },
  {
   "cell_type": "code",
   "execution_count": 68,
   "metadata": {},
   "outputs": [
    {
     "data": {
      "text/plain": [
       "(1.000000000000092, 0.9999999999999405)"
      ]
     },
     "execution_count": 68,
     "metadata": {},
     "output_type": "execute_result"
    }
   ],
   "source": [
    "maximum(norma),minimum(norma)"
   ]
  },
  {
   "cell_type": "markdown",
   "metadata": {
    "collapsed": true
   },
   "source": [
    "Encontrar el estado del espin al tiempo $t$, $\\rho_{s}$, el cual es\n",
    "\n",
    "$$\\rho_{s}=\\mathrm{tr}_{B}\\bigl(\\left|\\psi(t)\\rangle\\right.\\left.\\langle\\psi(t)\\right|\\bigr)$$\n",
    "\n",
    "con $\\rho_{tot}=\\left|\\psi(t)\\rangle\\right.\\left.\\langle\\psi(t)\\right|$ es la matriz de densidad de estados puros."
   ]
  },
  {
   "cell_type": "code",
   "execution_count": 17,
   "metadata": {},
   "outputs": [
    {
     "data": {
      "text/plain": [
       "psit (generic function with 1 method)"
      ]
     },
     "execution_count": 17,
     "metadata": {},
     "output_type": "execute_result"
    }
   ],
   "source": [
    "psi_t(t)=reshape(psi(t),(100,2))'\n",
    "psit(t)=conj(psi_t(t))"
   ]
  },
  {
   "cell_type": "code",
   "execution_count": 26,
   "metadata": {},
   "outputs": [
    {
     "data": {
      "text/plain": [
       "2×2 Array{Complex{Float64},2}:\n",
       "  0.500864+0.0im         0.0204051-1.94633e-6im\n",
       " 0.0204051+1.94633e-6im   0.499136+0.0im       "
      ]
     },
     "execution_count": 26,
     "metadata": {},
     "output_type": "execute_result"
    }
   ],
   "source": [
    "rho=psit(4)*psit(4)'"
   ]
  },
  {
   "cell_type": "code",
   "execution_count": 27,
   "metadata": {},
   "outputs": [
    {
     "data": {
      "text/plain": [
       "0.9999999999999947 + 0.0im"
      ]
     },
     "execution_count": 27,
     "metadata": {},
     "output_type": "execute_result"
    }
   ],
   "source": [
    "trace(rho)"
   ]
  },
  {
   "cell_type": "code",
   "execution_count": null,
   "metadata": {
    "collapsed": true
   },
   "outputs": [],
   "source": []
  },
  {
   "cell_type": "markdown",
   "metadata": {
    "collapsed": true
   },
   "source": [
    "Pureza, probabilidad del estado exitado, iniciando con estados coherentes."
   ]
  }
 ],
 "metadata": {
  "kernelspec": {
   "display_name": "Julia 0.6.0",
   "language": "julia",
   "name": "julia-0.6"
  },
  "language_info": {
   "file_extension": ".jl",
   "mimetype": "application/julia",
   "name": "julia",
   "version": "0.6.0"
  }
 },
 "nbformat": 4,
 "nbformat_minor": 2
}
